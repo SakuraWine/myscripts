{
 "metadata": {
  "language_info": {
   "codemirror_mode": {
    "name": "ipython",
    "version": 3
   },
   "file_extension": ".py",
   "mimetype": "text/x-python",
   "name": "python",
   "nbconvert_exporter": "python",
   "pygments_lexer": "ipython3",
   "version": "3.9.1-final"
  },
  "orig_nbformat": 2,
  "kernelspec": {
   "name": "python3",
   "display_name": "Python 3",
   "language": "python"
  }
 },
 "nbformat": 4,
 "nbformat_minor": 2,
 "cells": [
  {
   "cell_type": "code",
   "execution_count": 13,
   "metadata": {},
   "outputs": [],
   "source": [
    "import csv\n",
    "import matplotlib.pyplot as plt\n",
    "import numpy as np"
   ]
  },
  {
   "cell_type": "code",
   "execution_count": 20,
   "metadata": {},
   "outputs": [],
   "source": [
    "def read_csv(filepath: str) -> list:\n",
    "    results: list = []\n",
    "    with open(filepath) as f:\n",
    "        reader = csv.reader(f)\n",
    "        for row in reader:\n",
    "            results.append(row)\n",
    "    results.pop(0)   # はじめの行は説明行\n",
    "    return results\n",
    "\n",
    "def get_top_10_etti_rate(results: list) -> list:\n",
    "    sorted_results: list = sorted(results, key=lambda x: float(x[3]), reverse=True)\n",
    "    top_10: list = sorted_results[0:10]\n",
    "    with open(\"./etti_rate_queens.csv\", \"w\") as f:\n",
    "        for queen in top_10:\n",
    "            writer: Any = csv.writer(f)\n",
    "            result_row = [queen[0], queen[3]]\n",
    "            writer.writerow(result_row)\n",
    "    return top_10\n",
    "\n",
    "\n",
    "def get_top_10_etti_num(results: list) -> list:\n",
    "    sorted_results: list = sorted(results, key=lambda x: float(x[2]), reverse=True)\n",
    "    top_10: list = sorted_results[0:10]\n",
    "    with open(\"./etti_num_queens.csv\", \"w\") as f:\n",
    "        for queen in top_10:\n",
    "            writer: Any = csv.writer(f)\n",
    "            result_row = [queen[0], queen[2]]\n",
    "            writer.writerow(result_row)\n",
    "    return top_10"
   ]
  },
  {
   "cell_type": "code",
   "execution_count": 21,
   "metadata": {},
   "outputs": [],
   "source": [
    "results = read_csv(\"./result.csv\")\n",
    "etti_rate_queens = get_top_10_etti_rate(results)\n",
    "etti_num_queens = get_top_10_etti_num(results)"
   ]
  },
  {
   "cell_type": "code",
   "execution_count": null,
   "metadata": {},
   "outputs": [],
   "source": []
  }
 ]
}